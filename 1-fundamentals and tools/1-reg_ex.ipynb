{
 "cells": [
  {
   "cell_type": "code",
   "execution_count": 2,
   "metadata": {},
   "outputs": [],
   "source": [
    "import re"
   ]
  },
  {
   "cell_type": "code",
   "execution_count": 10,
   "metadata": {},
   "outputs": [],
   "source": [
    "text = \"blabla@gmail.com NGO stands for non-governmental organization. While there is no universally agreed-upon definition of an NGO, typically it is a voluntary group or institution with a social mission, which operates independently from the government. NGOs or similar organizations exist in all parts of the world. What is considered an NGO in one country may not qualify as an NGO in another, as legal definitions, permitted activities, monitoring, and oversight differ from country to country. The term can encompass many types of organizations. Although these terms are not necessarily interchangeable, an organization similar to an NGO may be called nonprofit, charity, non-profit organization (NPO), civil society organization (CSO), citizen sector organization (CSO), social benefit organization (SBO), an advocacy organization, voluntary organization, grassroots support organization (GSO), and non-state actor (NSA). You may also hear the terms independent sector, volunteer sector, and civil society during discussions about NGOs.\"\n",
    "pattern = 'NGO'"
   ]
  },
  {
   "cell_type": "code",
   "execution_count": 5,
   "metadata": {},
   "outputs": [
    {
     "name": "stdout",
     "output_type": "stream",
     "text": [
      "7\n"
     ]
    }
   ],
   "source": [
    "matches = re.findall(pattern=pattern, string= text)\n",
    "print(len(matches))"
   ]
  },
  {
   "cell_type": "code",
   "execution_count": 6,
   "metadata": {},
   "outputs": [
    {
     "name": "stdout",
     "output_type": "stream",
     "text": [
      "(0, 3)\n",
      "(105, 108)\n",
      "(232, 235)\n",
      "(317, 320)\n",
      "(358, 361)\n",
      "(616, 619)\n",
      "(1014, 1017)\n"
     ]
    }
   ],
   "source": [
    "for match in re.finditer(pattern=pattern, string=text):\n",
    "    print(match.span())"
   ]
  },
  {
   "cell_type": "code",
   "execution_count": 9,
   "metadata": {},
   "outputs": [
    {
     "name": "stdout",
     "output_type": "stream",
     "text": [
      "NGO stands for non-governmental organization. While there is no universally agreed-upon definition of an NGO, typically it is a voluntary group or institution with a social mission, which operates independently from the government. NGOs or similar organizations exist in all parts of the world. What is considered an NGO in one country may not qualify as an NGO in another, as legal definitions, permitted activities, monitoring, and oversight differ from country to country. The term can encompass many types of organizations. Although these terms are not necessarily interchangeable, an organization similar to an NGO may be called nonprofit, charity, non-profit organization NPO, civil society organization CSO, citizen sector organization CSO, social benefit organization SBO, an advocacy organization, voluntary organization, grassroots support organization GSO, and non-state actor NSA. You may also hear the terms independent sector, volunteer sector, and civil society during discussions about NGOs.\n"
     ]
    }
   ],
   "source": [
    "print(re.sub(r'[)(]', '', text))"
   ]
  },
  {
   "cell_type": "code",
   "execution_count": 12,
   "metadata": {},
   "outputs": [
    {
     "name": "stdout",
     "output_type": "stream",
     "text": [
      "['blabla@gmail.com']\n"
     ]
    }
   ],
   "source": [
    "print(re.findall(pattern= r'\\S+@\\S+', string=text))"
   ]
  },
  {
   "cell_type": "markdown",
   "metadata": {},
   "source": [
    "### find a letter repeating n times"
   ]
  },
  {
   "cell_type": "code",
   "execution_count": 108,
   "metadata": {},
   "outputs": [
    {
     "name": "stdout",
     "output_type": "stream",
     "text": [
      "['b', 'h', 'f']\n"
     ]
    }
   ],
   "source": [
    "string = 'bbb hhhff0jdi'\n",
    "pattern = r'([a-z])\\1{1,}'#repeat two times or more 1+1\n",
    "pattern2 = r'[b]{3}'\n",
    "pattern3 = r'\\w{5,}'#a word consisting of 5 or more alphnumeric charcters\n",
    "print(re.findall(pattern= pattern, string=string))"
   ]
  },
  {
   "cell_type": "code",
   "execution_count": 103,
   "metadata": {},
   "outputs": [
    {
     "name": "stdout",
     "output_type": "stream",
     "text": [
      "bbb \t('b',)\n",
      "hhh\t('h',)\n",
      "ff\t('f',)\n"
     ]
    }
   ],
   "source": [
    "for match in re.finditer(pattern=pattern, string=string):\n",
    "    print(match.group(), end='\\t')\n",
    "    print(match.groups())"
   ]
  },
  {
   "cell_type": "code",
   "execution_count": null,
   "metadata": {},
   "outputs": [],
   "source": [
    "#[^] is used for negation"
   ]
  },
  {
   "cell_type": "code",
   "execution_count": null,
   "metadata": {},
   "outputs": [],
   "source": []
  }
 ],
 "metadata": {
  "kernelspec": {
   "display_name": "Python 3.6.10 ('py36')",
   "language": "python",
   "name": "python3"
  },
  "language_info": {
   "codemirror_mode": {
    "name": "ipython",
    "version": 3
   },
   "file_extension": ".py",
   "mimetype": "text/x-python",
   "name": "python",
   "nbconvert_exporter": "python",
   "pygments_lexer": "ipython3",
   "version": "3.6.10"
  },
  "orig_nbformat": 4,
  "vscode": {
   "interpreter": {
    "hash": "e59a91fa698e4668adac386abeaaa9e787f2efa0af0899911c24b101ccac97b7"
   }
  }
 },
 "nbformat": 4,
 "nbformat_minor": 2
}
