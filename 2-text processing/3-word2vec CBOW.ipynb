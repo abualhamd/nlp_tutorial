{
 "cells": [
  {
   "cell_type": "code",
   "execution_count": 1,
   "metadata": {},
   "outputs": [],
   "source": [
    "import re\n",
    "import numpy as np\n",
    "import matplotlib.pyplot as plt"
   ]
  },
  {
   "cell_type": "code",
   "execution_count": 45,
   "metadata": {},
   "outputs": [],
   "source": [
    "sentences = \"\"\"We are about to study the idea of a computational process.\n",
    "Computational processes are abstract beings that inhabit computers.\n",
    "As they evolve, processes manipulate other abstract things called data.\n",
    "The evolution of a process is directed by a pattern of rules\n",
    "called a program. People create programs to direct processes. In effect,\n",
    "we conjure the spirits of the computer with our spells.\"\"\""
   ]
  },
  {
   "cell_type": "markdown",
   "metadata": {},
   "source": [
    "### clean data"
   ]
  },
  {
   "cell_type": "code",
   "execution_count": 46,
   "metadata": {},
   "outputs": [
    {
     "data": {
      "text/plain": [
       "['we',\n",
       " 'are',\n",
       " 'about',\n",
       " 'to',\n",
       " 'study',\n",
       " 'the',\n",
       " 'idea',\n",
       " 'of',\n",
       " 'a',\n",
       " 'computational',\n",
       " 'process',\n",
       " 'computational',\n",
       " 'processes',\n",
       " 'are',\n",
       " 'abstract',\n",
       " 'beings',\n",
       " 'that',\n",
       " 'inhabit',\n",
       " 'computers',\n",
       " 'as',\n",
       " 'they',\n",
       " 'evolve',\n",
       " 'processes',\n",
       " 'manipulate',\n",
       " 'other',\n",
       " 'abstract',\n",
       " 'things',\n",
       " 'called',\n",
       " 'data',\n",
       " 'the',\n",
       " 'evolution',\n",
       " 'of',\n",
       " 'a',\n",
       " 'process',\n",
       " 'is',\n",
       " 'directed',\n",
       " 'by',\n",
       " 'a',\n",
       " 'pattern',\n",
       " 'of',\n",
       " 'rules',\n",
       " 'called',\n",
       " 'a',\n",
       " 'program',\n",
       " 'people',\n",
       " 'create',\n",
       " 'programs',\n",
       " 'to',\n",
       " 'direct',\n",
       " 'processes',\n",
       " 'in',\n",
       " 'effect',\n",
       " 'we',\n",
       " 'conjure',\n",
       " 'the',\n",
       " 'spirits',\n",
       " 'of',\n",
       " 'the',\n",
       " 'computer',\n",
       " 'with',\n",
       " 'our',\n",
       " 'spells']"
      ]
     },
     "execution_count": 46,
     "metadata": {},
     "output_type": "execute_result"
    }
   ],
   "source": [
    "words = re.sub('[^A-Za-z0-9 ]', ' ', sentences).lower().split()\n",
    "words"
   ]
  },
  {
   "cell_type": "code",
   "execution_count": 47,
   "metadata": {},
   "outputs": [
    {
     "data": {
      "text/plain": [
       "{'a',\n",
       " 'about',\n",
       " 'abstract',\n",
       " 'are',\n",
       " 'as',\n",
       " 'beings',\n",
       " 'by',\n",
       " 'called',\n",
       " 'computational',\n",
       " 'computer',\n",
       " 'computers',\n",
       " 'conjure',\n",
       " 'create',\n",
       " 'data',\n",
       " 'direct',\n",
       " 'directed',\n",
       " 'effect',\n",
       " 'evolution',\n",
       " 'evolve',\n",
       " 'idea',\n",
       " 'in',\n",
       " 'inhabit',\n",
       " 'is',\n",
       " 'manipulate',\n",
       " 'of',\n",
       " 'other',\n",
       " 'our',\n",
       " 'pattern',\n",
       " 'people',\n",
       " 'process',\n",
       " 'processes',\n",
       " 'program',\n",
       " 'programs',\n",
       " 'rules',\n",
       " 'spells',\n",
       " 'spirits',\n",
       " 'study',\n",
       " 'that',\n",
       " 'the',\n",
       " 'they',\n",
       " 'things',\n",
       " 'to',\n",
       " 'we',\n",
       " 'with'}"
      ]
     },
     "execution_count": 47,
     "metadata": {},
     "output_type": "execute_result"
    }
   ],
   "source": [
    "vocab = set(words)\n",
    "vocab"
   ]
  },
  {
   "cell_type": "code",
   "execution_count": 62,
   "metadata": {},
   "outputs": [],
   "source": [
    "vocab_size = len(vocab)\n",
    "embed_dim = 10\n",
    "context_size = 2"
   ]
  },
  {
   "cell_type": "markdown",
   "metadata": {},
   "source": [
    "### Dictionaries for vocab"
   ]
  },
  {
   "cell_type": "code",
   "execution_count": 75,
   "metadata": {},
   "outputs": [
    {
     "data": {
      "text/plain": [
       "{'are': 0,\n",
       " 'process': 1,\n",
       " 'with': 2,\n",
       " 'pattern': 3,\n",
       " 'beings': 4,\n",
       " 'effect': 5,\n",
       " 'inhabit': 6,\n",
       " 'that': 7,\n",
       " 'is': 8,\n",
       " 'in': 9,\n",
       " 'other': 10,\n",
       " 'by': 11,\n",
       " 'program': 12,\n",
       " 'the': 13,\n",
       " 'manipulate': 14,\n",
       " 'directed': 15,\n",
       " 'study': 16,\n",
       " 'abstract': 17,\n",
       " 'create': 18,\n",
       " 'called': 19,\n",
       " 'direct': 20,\n",
       " 'spirits': 21,\n",
       " 'a': 22,\n",
       " 'computational': 23,\n",
       " 'as': 24,\n",
       " 'evolve': 25,\n",
       " 'data': 26,\n",
       " 'about': 27,\n",
       " 'they': 28,\n",
       " 'computer': 29,\n",
       " 'conjure': 30,\n",
       " 'things': 31,\n",
       " 'rules': 32,\n",
       " 'programs': 33,\n",
       " 'processes': 34,\n",
       " 'our': 35,\n",
       " 'to': 36,\n",
       " 'evolution': 37,\n",
       " 'computers': 38,\n",
       " 'spells': 39,\n",
       " 'of': 40,\n",
       " 'people': 41,\n",
       " 'we': 42,\n",
       " 'idea': 43}"
      ]
     },
     "execution_count": 75,
     "metadata": {},
     "output_type": "execute_result"
    }
   ],
   "source": [
    "word_to_ix = {word: index for index, word in enumerate(vocab)}\n",
    "word_to_ix"
   ]
  },
  {
   "cell_type": "code",
   "execution_count": 76,
   "metadata": {},
   "outputs": [
    {
     "data": {
      "text/plain": [
       "{0: 'are',\n",
       " 1: 'process',\n",
       " 2: 'with',\n",
       " 3: 'pattern',\n",
       " 4: 'beings',\n",
       " 5: 'effect',\n",
       " 6: 'inhabit',\n",
       " 7: 'that',\n",
       " 8: 'is',\n",
       " 9: 'in',\n",
       " 10: 'other',\n",
       " 11: 'by',\n",
       " 12: 'program',\n",
       " 13: 'the',\n",
       " 14: 'manipulate',\n",
       " 15: 'directed',\n",
       " 16: 'study',\n",
       " 17: 'abstract',\n",
       " 18: 'create',\n",
       " 19: 'called',\n",
       " 20: 'direct',\n",
       " 21: 'spirits',\n",
       " 22: 'a',\n",
       " 23: 'computational',\n",
       " 24: 'as',\n",
       " 25: 'evolve',\n",
       " 26: 'data',\n",
       " 27: 'about',\n",
       " 28: 'they',\n",
       " 29: 'computer',\n",
       " 30: 'conjure',\n",
       " 31: 'things',\n",
       " 32: 'rules',\n",
       " 33: 'programs',\n",
       " 34: 'processes',\n",
       " 35: 'our',\n",
       " 36: 'to',\n",
       " 37: 'evolution',\n",
       " 38: 'computers',\n",
       " 39: 'spells',\n",
       " 40: 'of',\n",
       " 41: 'people',\n",
       " 42: 'we',\n",
       " 43: 'idea'}"
      ]
     },
     "execution_count": 76,
     "metadata": {},
     "output_type": "execute_result"
    }
   ],
   "source": [
    "ix_to_word = {index: word for index, word in enumerate(vocab)}\n",
    "ix_to_word"
   ]
  },
  {
   "cell_type": "markdown",
   "metadata": {},
   "source": [
    "### Data bags"
   ]
  },
  {
   "cell_type": "code",
   "execution_count": 56,
   "metadata": {},
   "outputs": [
    {
     "data": {
      "text/plain": [
       "[(['we', 'are', 'to', 'study'], 'about'),\n",
       " (['are', 'about', 'study', 'the'], 'to'),\n",
       " (['about', 'to', 'the', 'idea'], 'study'),\n",
       " (['to', 'study', 'idea', 'of'], 'the'),\n",
       " (['study', 'the', 'of', 'a'], 'idea'),\n",
       " (['the', 'idea', 'a', 'computational'], 'of'),\n",
       " (['idea', 'of', 'computational', 'process'], 'a'),\n",
       " (['of', 'a', 'process', 'computational'], 'computational'),\n",
       " (['a', 'computational', 'computational', 'processes'], 'process'),\n",
       " (['computational', 'process', 'processes', 'are'], 'computational'),\n",
       " (['process', 'computational', 'are', 'abstract'], 'processes'),\n",
       " (['computational', 'processes', 'abstract', 'beings'], 'are'),\n",
       " (['processes', 'are', 'beings', 'that'], 'abstract'),\n",
       " (['are', 'abstract', 'that', 'inhabit'], 'beings'),\n",
       " (['abstract', 'beings', 'inhabit', 'computers'], 'that'),\n",
       " (['beings', 'that', 'computers', 'as'], 'inhabit'),\n",
       " (['that', 'inhabit', 'as', 'they'], 'computers'),\n",
       " (['inhabit', 'computers', 'they', 'evolve'], 'as'),\n",
       " (['computers', 'as', 'evolve', 'processes'], 'they'),\n",
       " (['as', 'they', 'processes', 'manipulate'], 'evolve'),\n",
       " (['they', 'evolve', 'manipulate', 'other'], 'processes'),\n",
       " (['evolve', 'processes', 'other', 'abstract'], 'manipulate'),\n",
       " (['processes', 'manipulate', 'abstract', 'things'], 'other'),\n",
       " (['manipulate', 'other', 'things', 'called'], 'abstract'),\n",
       " (['other', 'abstract', 'called', 'data'], 'things'),\n",
       " (['abstract', 'things', 'data', 'the'], 'called'),\n",
       " (['things', 'called', 'the', 'evolution'], 'data'),\n",
       " (['called', 'data', 'evolution', 'of'], 'the'),\n",
       " (['data', 'the', 'of', 'a'], 'evolution'),\n",
       " (['the', 'evolution', 'a', 'process'], 'of'),\n",
       " (['evolution', 'of', 'process', 'is'], 'a'),\n",
       " (['of', 'a', 'is', 'directed'], 'process'),\n",
       " (['a', 'process', 'directed', 'by'], 'is'),\n",
       " (['process', 'is', 'by', 'a'], 'directed'),\n",
       " (['is', 'directed', 'a', 'pattern'], 'by'),\n",
       " (['directed', 'by', 'pattern', 'of'], 'a'),\n",
       " (['by', 'a', 'of', 'rules'], 'pattern'),\n",
       " (['a', 'pattern', 'rules', 'called'], 'of'),\n",
       " (['pattern', 'of', 'called', 'a'], 'rules'),\n",
       " (['of', 'rules', 'a', 'program'], 'called'),\n",
       " (['rules', 'called', 'program', 'people'], 'a'),\n",
       " (['called', 'a', 'people', 'create'], 'program'),\n",
       " (['a', 'program', 'create', 'programs'], 'people'),\n",
       " (['program', 'people', 'programs', 'to'], 'create'),\n",
       " (['people', 'create', 'to', 'direct'], 'programs'),\n",
       " (['create', 'programs', 'direct', 'processes'], 'to'),\n",
       " (['programs', 'to', 'processes', 'in'], 'direct'),\n",
       " (['to', 'direct', 'in', 'effect'], 'processes'),\n",
       " (['direct', 'processes', 'effect', 'we'], 'in'),\n",
       " (['processes', 'in', 'we', 'conjure'], 'effect'),\n",
       " (['in', 'effect', 'conjure', 'the'], 'we'),\n",
       " (['effect', 'we', 'the', 'spirits'], 'conjure'),\n",
       " (['we', 'conjure', 'spirits', 'of'], 'the'),\n",
       " (['conjure', 'the', 'of', 'the'], 'spirits'),\n",
       " (['the', 'spirits', 'the', 'computer'], 'of'),\n",
       " (['spirits', 'of', 'computer', 'with'], 'the'),\n",
       " (['of', 'the', 'with', 'our'], 'computer'),\n",
       " (['the', 'computer', 'our', 'spells'], 'with')]"
      ]
     },
     "execution_count": 56,
     "metadata": {},
     "output_type": "execute_result"
    }
   ],
   "source": [
    "data = []\n",
    "\n",
    "for i in range(2, len(words)-2):\n",
    "    data.append(([words[i-2], words[i-1], words[i+1], words[i+2]], words[i]))\n",
    "\n",
    "data"
   ]
  },
  {
   "cell_type": "markdown",
   "metadata": {},
   "source": [
    "#### Model components"
   ]
  },
  {
   "cell_type": "code",
   "execution_count": 63,
   "metadata": {},
   "outputs": [
    {
     "data": {
      "text/plain": [
       "array([[4.41551018e-01, 8.64850150e-01, 3.96852603e-01, 9.80832068e-01,\n",
       "        4.52968837e-01, 9.21504675e-01, 5.53552036e-01, 8.32424164e-01,\n",
       "        4.09255838e-01, 5.88644272e-01],\n",
       "       [5.94979092e-01, 8.73318791e-01, 4.61861240e-01, 6.77771037e-01,\n",
       "        7.19951958e-01, 8.63874628e-01, 4.21576958e-01, 6.28124111e-01,\n",
       "        1.87590148e-01, 1.61080488e-02],\n",
       "       [4.55639280e-01, 5.08659519e-01, 2.27463757e-01, 4.68656616e-01,\n",
       "        8.88832382e-01, 7.64876222e-01, 5.82246669e-01, 5.84189361e-02,\n",
       "        2.12433519e-01, 6.70679800e-02],\n",
       "       [7.38707778e-01, 5.88416861e-01, 8.13510455e-02, 9.14168186e-01,\n",
       "        1.70704012e-01, 6.10995259e-01, 1.76431659e-01, 5.45166179e-01,\n",
       "        5.83904255e-02, 6.94940273e-01],\n",
       "       [6.52652230e-01, 8.58501225e-01, 9.58362602e-01, 9.72980298e-01,\n",
       "        6.79718375e-01, 7.79182860e-01, 5.62223356e-01, 6.37914190e-01,\n",
       "        1.24075705e-01, 5.28823264e-01],\n",
       "       [5.45826797e-01, 9.60474991e-01, 3.98441556e-01, 1.75781337e-01,\n",
       "        3.97849774e-01, 6.81124644e-01, 1.56574398e-01, 6.86697141e-01,\n",
       "        4.34732320e-01, 5.81139953e-01],\n",
       "       [4.30103004e-01, 7.18328084e-01, 4.62960364e-01, 4.49338338e-01,\n",
       "        2.39571567e-01, 7.77059077e-01, 9.57078652e-01, 4.47487205e-01,\n",
       "        9.88571189e-01, 3.22411451e-01],\n",
       "       [5.85346015e-01, 3.42717704e-01, 9.93740023e-01, 8.20645785e-02,\n",
       "        5.39541349e-03, 4.73798829e-01, 2.78993409e-01, 1.91122179e-01,\n",
       "        9.76061107e-01, 2.69117957e-01],\n",
       "       [4.43075652e-01, 2.51741314e-01, 5.76211710e-01, 9.07914600e-01,\n",
       "        8.76333647e-01, 7.16990222e-02, 8.15021907e-01, 6.60330915e-01,\n",
       "        6.59466233e-01, 9.94400258e-02],\n",
       "       [7.55805354e-01, 1.10003523e-02, 4.61168470e-01, 7.16365099e-01,\n",
       "        4.02453976e-01, 7.89597500e-01, 9.23592891e-01, 7.08831623e-01,\n",
       "        4.42099327e-01, 1.37611150e-01],\n",
       "       [7.45401320e-01, 7.18915329e-01, 8.73369990e-02, 8.56692667e-02,\n",
       "        7.30188506e-01, 6.76109044e-01, 9.50118566e-01, 2.54988383e-01,\n",
       "        3.35545709e-01, 9.58767174e-01],\n",
       "       [2.30629458e-01, 7.22714749e-01, 4.78149606e-01, 4.14388118e-01,\n",
       "        1.81073833e-01, 8.82860707e-01, 2.90594158e-01, 6.74848945e-01,\n",
       "        4.86871328e-01, 4.81985742e-01],\n",
       "       [2.37835659e-01, 2.94839166e-01, 9.35866208e-02, 7.66764325e-01,\n",
       "        4.71844664e-01, 3.26223315e-01, 6.64433689e-01, 5.90220751e-01,\n",
       "        8.20482491e-01, 6.57876604e-01],\n",
       "       [4.50273939e-01, 9.56674798e-01, 2.91856304e-01, 6.10721050e-01,\n",
       "        4.94957355e-01, 9.64262725e-02, 6.61954949e-01, 4.28830030e-01,\n",
       "        6.29866597e-01, 4.55566414e-01],\n",
       "       [2.03131992e-01, 8.26935603e-01, 7.97208883e-02, 5.59550060e-01,\n",
       "        6.88214169e-01, 2.67819925e-01, 9.84140012e-01, 6.17850508e-01,\n",
       "        6.95197231e-01, 4.09373579e-01],\n",
       "       [9.25904589e-01, 9.46021498e-01, 6.50963997e-01, 3.70763015e-02,\n",
       "        9.06798286e-01, 4.38109901e-01, 8.25419435e-01, 3.30305348e-01,\n",
       "        2.37824999e-01, 2.66983385e-01],\n",
       "       [5.39244070e-01, 2.81883768e-01, 5.32129771e-01, 7.34690731e-01,\n",
       "        5.47297013e-01, 8.34956186e-01, 7.05675141e-01, 5.42453047e-01,\n",
       "        6.20678205e-01, 4.30641379e-01],\n",
       "       [1.40046037e-01, 2.55865873e-01, 9.58510942e-01, 7.02184637e-01,\n",
       "        9.55641821e-01, 9.43244647e-01, 6.40040747e-01, 8.42431716e-01,\n",
       "        5.51939458e-01, 1.75009210e-01],\n",
       "       [3.66169355e-01, 4.41680118e-01, 1.96744557e-01, 9.05140524e-01,\n",
       "        7.87390135e-01, 7.84355813e-01, 9.95430227e-01, 7.58942937e-01,\n",
       "        6.07103851e-01, 2.25282771e-01],\n",
       "       [9.28250495e-01, 8.83827030e-01, 1.55585279e-01, 2.95658568e-01,\n",
       "        9.31427460e-01, 8.42225138e-01, 6.76839063e-01, 3.49810617e-01,\n",
       "        8.09749557e-02, 1.09716882e-01],\n",
       "       [9.64392776e-01, 2.44635798e-01, 2.02856085e-02, 6.28827324e-01,\n",
       "        2.90411875e-01, 1.21444423e-02, 4.39539159e-01, 9.77339633e-01,\n",
       "        9.65433614e-01, 1.09563115e-01],\n",
       "       [9.37306780e-01, 1.28127735e-01, 4.59534724e-01, 8.37715023e-01,\n",
       "        1.66189136e-01, 7.81818119e-01, 9.72608607e-01, 9.28893788e-03,\n",
       "        6.12762438e-01, 2.78574702e-01],\n",
       "       [1.10929081e-01, 6.96406238e-01, 8.38511393e-01, 8.32529897e-02,\n",
       "        3.59702462e-02, 2.26870846e-01, 4.32439130e-01, 3.37171798e-01,\n",
       "        7.66232917e-01, 1.43433932e-01],\n",
       "       [6.96569530e-01, 8.55262304e-01, 8.46019244e-01, 7.45623454e-01,\n",
       "        6.01466516e-01, 4.09364559e-04, 1.63830108e-01, 3.38564498e-01,\n",
       "        1.03954740e-01, 2.35745094e-01],\n",
       "       [4.50084993e-01, 7.27009715e-02, 4.13073406e-02, 3.02222398e-01,\n",
       "        4.43238706e-01, 4.71430962e-02, 9.50391433e-01, 3.90300435e-01,\n",
       "        8.17088851e-01, 2.81567836e-02],\n",
       "       [4.47232207e-01, 7.92836369e-01, 4.53876000e-01, 7.89843490e-01,\n",
       "        6.05645009e-01, 8.85131181e-01, 5.17295252e-01, 4.64489409e-01,\n",
       "        3.49610323e-01, 6.50137020e-01],\n",
       "       [8.04593458e-01, 3.27937172e-01, 2.82972251e-01, 9.18894339e-01,\n",
       "        1.99121061e-01, 8.65091396e-01, 5.74719586e-01, 7.76535387e-01,\n",
       "        9.00807850e-01, 6.53886034e-01],\n",
       "       [1.06048917e-01, 6.85884688e-01, 8.41691856e-01, 6.87059853e-01,\n",
       "        4.88740369e-01, 5.80559388e-01, 4.00540174e-01, 7.34458256e-01,\n",
       "        1.70197400e-01, 9.90349645e-01],\n",
       "       [7.15801985e-01, 5.57468780e-01, 1.99699043e-01, 5.11428777e-01,\n",
       "        3.37739467e-01, 7.47582551e-01, 5.54227232e-01, 8.53685764e-01,\n",
       "        4.92761010e-01, 3.32896999e-02],\n",
       "       [3.09197417e-01, 9.48637289e-01, 9.34788098e-01, 6.19196252e-01,\n",
       "        9.24793155e-01, 6.86878957e-01, 4.22429569e-01, 3.67989679e-01,\n",
       "        7.85477803e-01, 1.74263853e-01],\n",
       "       [8.36132924e-01, 6.86521774e-01, 8.42340746e-01, 4.45177427e-01,\n",
       "        4.58797660e-02, 2.79883494e-01, 9.05367904e-01, 1.43947783e-01,\n",
       "        8.38787204e-01, 9.25541150e-01],\n",
       "       [5.87606212e-01, 6.56120603e-01, 2.40018632e-01, 7.09720079e-02,\n",
       "        1.15028290e-01, 1.71245585e-01, 5.02172893e-01, 5.58373064e-01,\n",
       "        2.56059066e-01, 4.79305241e-01],\n",
       "       [3.41520436e-01, 6.23537178e-01, 5.37000963e-01, 8.35754951e-01,\n",
       "        1.97304164e-01, 5.95144863e-01, 7.34425322e-01, 5.37200935e-01,\n",
       "        6.51490025e-01, 6.56974230e-01],\n",
       "       [4.14484005e-01, 1.75607737e-01, 1.39945550e-01, 9.29046839e-01,\n",
       "        5.73431321e-01, 5.70423129e-01, 8.61230400e-01, 5.25201366e-01,\n",
       "        7.17958608e-03, 5.22385856e-01],\n",
       "       [5.13647413e-01, 9.79658852e-01, 7.50766291e-02, 7.04289069e-01,\n",
       "        2.05600004e-01, 2.09921552e-01, 7.29839395e-01, 6.42151530e-01,\n",
       "        5.80017891e-01, 1.72251043e-01],\n",
       "       [4.03804818e-01, 8.45307238e-01, 7.35066102e-01, 5.15819437e-01,\n",
       "        8.55336694e-01, 9.48249285e-01, 5.84270689e-01, 3.88425409e-01,\n",
       "        4.42946130e-01, 5.34956698e-01],\n",
       "       [5.86964817e-01, 2.13302167e-01, 1.74841451e-01, 2.61105663e-01,\n",
       "        3.47117851e-01, 9.36794998e-01, 9.05823513e-01, 7.50364612e-01,\n",
       "        4.80583234e-01, 5.87778390e-01],\n",
       "       [8.91880526e-01, 4.48528191e-01, 9.92002385e-01, 7.09756745e-01,\n",
       "        7.57655840e-01, 8.55153486e-01, 8.02655151e-01, 8.62370299e-01,\n",
       "        1.74578191e-01, 7.57805258e-02],\n",
       "       [6.43262841e-01, 8.12179171e-01, 2.77527237e-02, 9.35904728e-02,\n",
       "        7.07976810e-03, 4.77575302e-01, 2.94572014e-01, 3.46202095e-01,\n",
       "        1.95909208e-01, 7.72185422e-01],\n",
       "       [5.93326062e-01, 2.92059516e-01, 5.95285078e-01, 5.13180045e-03,\n",
       "        9.32892440e-01, 9.25183653e-01, 7.99006582e-01, 8.91366546e-01,\n",
       "        3.01032420e-01, 9.36059467e-01],\n",
       "       [9.40866258e-01, 1.57978161e-01, 7.47773141e-01, 9.64040079e-01,\n",
       "        5.89348469e-02, 9.31435825e-01, 3.54905848e-01, 4.92351833e-01,\n",
       "        9.32545790e-02, 9.08104586e-01],\n",
       "       [9.87703300e-01, 5.60147546e-01, 8.10076689e-01, 4.11139801e-01,\n",
       "        5.57375158e-02, 4.38871587e-02, 6.28290951e-01, 9.55811848e-01,\n",
       "        8.92164232e-01, 8.43330713e-01],\n",
       "       [4.15790960e-01, 5.81425492e-03, 7.32269467e-01, 5.98211819e-01,\n",
       "        5.14855426e-01, 1.89817479e-01, 7.41196138e-01, 4.87232903e-01,\n",
       "        5.60850479e-01, 1.92072321e-02],\n",
       "       [7.09891265e-01, 4.34761608e-02, 2.34688678e-01, 8.17046406e-01,\n",
       "        5.94802177e-01, 1.40636574e-01, 8.33622742e-01, 6.08976246e-01,\n",
       "        8.36115095e-01, 5.87924426e-01]])"
      ]
     },
     "execution_count": 63,
     "metadata": {},
     "output_type": "execute_result"
    }
   ],
   "source": [
    "embeddings = np.random.random_sample((vocab_size, embed_dim))\n",
    "embeddings"
   ]
  },
  {
   "cell_type": "code",
   "execution_count": 66,
   "metadata": {},
   "outputs": [],
   "source": [
    "def linear_model(m, theta):\n",
    "    return m.dot(theta)"
   ]
  },
  {
   "cell_type": "code",
   "execution_count": 67,
   "metadata": {},
   "outputs": [],
   "source": [
    "def log_softmax(x):\n",
    "    e_x = np.exp(x - np.max(x))\n",
    "    return np.log(e_x / e_x.sum())"
   ]
  },
  {
   "cell_type": "code",
   "execution_count": 68,
   "metadata": {},
   "outputs": [],
   "source": [
    "def NLLLoss(logs, targets):\n",
    "    out = logs[range(len(targets)), targets]\n",
    "    return -out.sum()/len(out)"
   ]
  },
  {
   "cell_type": "code",
   "execution_count": 69,
   "metadata": {},
   "outputs": [],
   "source": [
    "def log_softmax_crossentropy_with_logits(logits,target):\n",
    "    out = np.zeros_like(logits)\n",
    "    out[np.arange(len(logits)),target] = 1\n",
    "    \n",
    "    softmax = np.exp(logits) / np.exp(logits).sum(axis=-1,keepdims=True)\n",
    "    \n",
    "    return (- out + softmax) / logits.shape[0]"
   ]
  },
  {
   "cell_type": "code",
   "execution_count": 70,
   "metadata": {},
   "outputs": [],
   "source": [
    "def forward(context_idxs, theta):\n",
    "    m = embeddings[context_idxs].reshape(1, -1)\n",
    "    n = linear_model(m, theta)\n",
    "    o = log_softmax(n)\n",
    "    return m, n, o"
   ]
  },
  {
   "cell_type": "code",
   "execution_count": 71,
   "metadata": {},
   "outputs": [],
   "source": [
    "def backward(preds, theta, target_idxs):\n",
    "    m, n, o = preds\n",
    "    dlog = log_softmax_crossentropy_with_logits(n, target_idxs)\n",
    "    dw = m.T.dot(dlog)\n",
    "    return dw"
   ]
  },
  {
   "cell_type": "code",
   "execution_count": 72,
   "metadata": {},
   "outputs": [],
   "source": [
    "def optimize(theta, grad, lr=0.03):\n",
    "    theta -= grad * lr\n",
    "    return theta"
   ]
  },
  {
   "cell_type": "markdown",
   "metadata": {},
   "source": [
    "### Training function"
   ]
  },
  {
   "cell_type": "code",
   "execution_count": 73,
   "metadata": {},
   "outputs": [],
   "source": [
    "theta = np.random.uniform(-1, 1, (2 * context_size * embed_dim, vocab_size))"
   ]
  },
  {
   "cell_type": "code",
   "execution_count": 77,
   "metadata": {},
   "outputs": [],
   "source": [
    "epoch_losses = {}\n",
    "\n",
    "for epoch in range(80):\n",
    "\n",
    "    losses =  []\n",
    "\n",
    "    for context, target in data:\n",
    "        context_idxs = np.array([word_to_ix[w] for w in context])\n",
    "        preds = forward(context_idxs, theta)\n",
    "\n",
    "        target_idxs = np.array([word_to_ix[target]])\n",
    "        loss = NLLLoss(preds[-1], target_idxs)\n",
    "\n",
    "        losses.append(loss)\n",
    "\n",
    "        grad = backward(preds, theta, target_idxs)\n",
    "        theta = optimize(theta, grad, lr=0.03)\n",
    "        \n",
    "     \n",
    "    epoch_losses[epoch] = losses"
   ]
  },
  {
   "cell_type": "code",
   "execution_count": 78,
   "metadata": {},
   "outputs": [
    {
     "data": {
      "text/plain": [
       "Text(0, 0.5, 'Losses')"
      ]
     },
     "execution_count": 78,
     "metadata": {},
     "output_type": "execute_result"
    },
    {
     "data": {
      "image/png": "[encoded data removed]",
      "text/plain": [
       "<Figure size 432x288 with 1 Axes>"
      ]
     },
     "metadata": {
      "needs_background": "light"
     },
     "output_type": "display_data"
    }
   ],
   "source": [
    "ix = np.arange(0,80)\n",
    "\n",
    "fig = plt.figure()\n",
    "fig.suptitle('Epoch/Losses', fontsize=20)\n",
    "plt.plot(ix,[epoch_losses[i][0] for i in ix])\n",
    "plt.xlabel('Epochs', fontsize=12)\n",
    "plt.ylabel('Losses', fontsize=12)"
   ]
  },
  {
   "cell_type": "code",
   "execution_count": 79,
   "metadata": {},
   "outputs": [],
   "source": [
    "def predict(words):\n",
    "    context_idxs = np.array([word_to_ix[w] for w in words])\n",
    "    preds = forward(context_idxs, theta)\n",
    "    word = ix_to_word[np.argmax(preds[-1])]\n",
    "    \n",
    "    return word"
   ]
  },
  {
   "cell_type": "code",
   "execution_count": 85,
   "metadata": {},
   "outputs": [],
   "source": [
    "def accuracy():\n",
    "    wrong = 0\n",
    "\n",
    "    for context, target in data:\n",
    "        if(predict(context) != target):\n",
    "            wrong += 1\n",
    "            \n",
    "    return (1 - (wrong / len(data)))"
   ]
  },
  {
   "cell_type": "code",
   "execution_count": 86,
   "metadata": {},
   "outputs": [
    {
     "data": {
      "text/plain": [
       "1.0"
      ]
     },
     "execution_count": 86,
     "metadata": {},
     "output_type": "execute_result"
    }
   ],
   "source": [
    "accuracy()"
   ]
  },
  {
   "cell_type": "code",
   "execution_count": null,
   "metadata": {},
   "outputs": [],
   "source": []
  }
 ],
 "metadata": {
  "kernelspec": {
   "display_name": "Python 3.6.10 ('py36')",
   "language": "python",
   "name": "python3"
  },
  "language_info": {
   "codemirror_mode": {
    "name": "ipython",
    "version": 3
   },
   "file_extension": ".py",
   "mimetype": "text/x-python",
   "name": "python",
   "nbconvert_exporter": "python",
   "pygments_lexer": "ipython3",
   "version": "3.6.10"
  },
  "orig_nbformat": 4,
  "vscode": {
   "interpreter": {
    "hash": "e59a91fa698e4668adac386abeaaa9e787f2efa0af0899911c24b101ccac97b7"
   }
  }
 },
 "nbformat": 4,
 "nbformat_minor": 2
}
