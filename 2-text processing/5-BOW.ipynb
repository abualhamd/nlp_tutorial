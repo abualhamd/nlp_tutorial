{
 "cells": [
  {
   "cell_type": "code",
   "execution_count": null,
   "metadata": {},
   "outputs": [],
   "source": [
    "import numpy as np\n",
    "import re\n",
    "import spacy"
   ]
  },
  {
   "cell_type": "code",
   "execution_count": 2,
   "metadata": {},
   "outputs": [],
   "source": [
    "nlp = spacy.load('en_core_web_lg')"
   ]
  },
  {
   "cell_type": "code",
   "execution_count": 3,
   "metadata": {},
   "outputs": [],
   "source": [
    "def clean_text(text:str)->str:\n",
    "    words = re.sub('\\W', ' ', text.lower()).split()\n",
    "    return [word for word in words if not word in nlp.Defaults.stop_words]\n",
    "  "
   ]
  },
  {
   "cell_type": "code",
   "execution_count": 4,
   "metadata": {},
   "outputs": [
    {
     "data": {
      "text/plain": [
       "['end', 'nie']"
      ]
     },
     "execution_count": 4,
     "metadata": {},
     "output_type": "execute_result"
    }
   ],
   "source": [
    "clean_text('The end is nie')"
   ]
  },
  {
   "cell_type": "code",
   "execution_count": 15,
   "metadata": {},
   "outputs": [],
   "source": [
    "def tokenize(sentences:list)->list:\n",
    "    words = []\n",
    "\n",
    "    for sent in sentences:\n",
    "        clean_words = clean_text(sent)\n",
    "        words.extend(clean_words)\n",
    "\n",
    "    return list(set(words))"
   ]
  },
  {
   "cell_type": "code",
   "execution_count": 6,
   "metadata": {},
   "outputs": [
    {
     "data": {
      "text/plain": [
       "['early',\n",
       " 'arrived',\n",
       " 'station',\n",
       " 'joe',\n",
       " 'samantha',\n",
       " 'looked',\n",
       " 'train',\n",
       " 'noon',\n",
       " 'waited',\n",
       " 'late',\n",
       " 'mary',\n",
       " 'took',\n",
       " 'bus']"
      ]
     },
     "execution_count": 6,
     "metadata": {},
     "output_type": "execute_result"
    }
   ],
   "source": [
    "allsentences = [\"Joe waited for the train\",\n",
    "                \"The train was late\",\n",
    "                \"Mary and Samantha took the bus\",\n",
    "               \"I looked for Mary and Samantha at the bus station\",\n",
    "                \"Mary and Samantha arrived at the bus station early but waited until noon for the bus\"]\n",
    "\n",
    "tokenize(allsentences)"
   ]
  },
  {
   "cell_type": "code",
   "execution_count": 55,
   "metadata": {},
   "outputs": [],
   "source": [
    "def gen_bow(sentences:list):\n",
    "    vocab = tokenize(sentences=sentences)\n",
    "    print(vocab,'\\n\\n')\n",
    "    for sentence in sentences:\n",
    "        words = clean_text(sentence)    \n",
    "        bag_vec = np.zeros(len(vocab))\n",
    "        for word in words:\n",
    "            indx = vocab.index(word)\n",
    "            bag_vec[indx] += 1\n",
    "\n",
    "            # print(f'{word}\\n {bag_vec}')\n",
    "            # print('---------------------------------------------------')\n",
    "            # bag_vec[indx] = 0\n",
    "        print(f'{sentence}\\n{bag_vec}')\n",
    "        print('---------------------------------------------------')"
   ]
  },
  {
   "cell_type": "code",
   "execution_count": 56,
   "metadata": {},
   "outputs": [
    {
     "name": "stdout",
     "output_type": "stream",
     "text": [
      "['early', 'arrived', 'station', 'samantha', 'noon', 'waited', 'mary', 'bus'] \n",
      "\n",
      "\n",
      "Mary and Samantha arrived at the bus station early but waited until noon for the bus\n",
      "[1. 1. 1. 1. 1. 1. 1. 2.]\n",
      "---------------------------------------------------\n"
     ]
    }
   ],
   "source": [
    "text = \"Mary and Samantha arrived at the bus station early but waited until noon for the bus\"\n",
    "\n",
    "gen_bow([text])"
   ]
  },
  {
   "cell_type": "code",
   "execution_count": 57,
   "metadata": {},
   "outputs": [
    {
     "name": "stdout",
     "output_type": "stream",
     "text": [
      "['early', 'arrived', 'station', 'joe', 'samantha', 'looked', 'train', 'noon', 'waited', 'late', 'mary', 'took', 'bus'] \n",
      "\n",
      "\n",
      "Joe waited for the train\n",
      "[0. 0. 0. 1. 0. 0. 1. 0. 1. 0. 0. 0. 0.]\n",
      "---------------------------------------------------\n",
      "The train was late\n",
      "[0. 0. 0. 0. 0. 0. 1. 0. 0. 1. 0. 0. 0.]\n",
      "---------------------------------------------------\n",
      "Mary and Samantha took the bus\n",
      "[0. 0. 0. 0. 1. 0. 0. 0. 0. 0. 1. 1. 1.]\n",
      "---------------------------------------------------\n",
      "I looked for Mary and Samantha at the bus station\n",
      "[0. 0. 1. 0. 1. 1. 0. 0. 0. 0. 1. 0. 1.]\n",
      "---------------------------------------------------\n",
      "Mary and Samantha arrived at the bus station early but waited until noon for the bus\n",
      "[1. 1. 1. 0. 1. 0. 0. 1. 1. 0. 1. 0. 2.]\n",
      "---------------------------------------------------\n"
     ]
    }
   ],
   "source": [
    "gen_bow(sentences=allsentences)"
   ]
  },
  {
   "cell_type": "code",
   "execution_count": null,
   "metadata": {},
   "outputs": [],
   "source": []
  },
  {
   "cell_type": "code",
   "execution_count": 58,
   "metadata": {},
   "outputs": [
    {
     "name": "stdout",
     "output_type": "stream",
     "text": [
      "Joe waited for the train\n",
      "[0, 0, 0, 0, 0, 0, 1, 1, 0, 0, 0, 0, 0, 0, 1, 0, 1, 0, 1, 0]\n",
      "---------------------------------------------------\n",
      "The train was late\n",
      "[0, 0, 0, 0, 0, 0, 0, 0, 1, 0, 0, 0, 0, 0, 1, 0, 1, 0, 0, 1]\n",
      "---------------------------------------------------\n",
      "Mary and Samantha took the bus\n",
      "[1, 0, 0, 1, 0, 0, 0, 0, 0, 0, 1, 0, 1, 0, 1, 1, 0, 0, 0, 0]\n",
      "---------------------------------------------------\n",
      "I looked for Mary and Samantha at the bus station\n",
      "[1, 0, 1, 1, 0, 0, 1, 0, 0, 1, 1, 0, 1, 1, 1, 0, 0, 0, 0, 0]\n",
      "---------------------------------------------------\n",
      "Mary and Samantha arrived at the bus station early but waited until noon for the bus\n",
      "[1, 1, 1, 2, 1, 1, 1, 0, 0, 0, 1, 1, 1, 1, 2, 0, 0, 1, 1, 0]\n",
      "---------------------------------------------------\n"
     ]
    }
   ],
   "source": [
    "from sklearn.feature_extraction.text import CountVectorizer\n",
    "\n",
    "vectorizer = CountVectorizer()\n",
    "X = vectorizer.fit_transform(allsentences)\n",
    "\n",
    "for i in range(len(allsentences)) : \n",
    "    print(allsentences[i])\n",
    "    print(list(X.toarray()[i]))\n",
    "    print('---------------------------------------------------')"
   ]
  },
  {
   "cell_type": "code",
   "execution_count": null,
   "metadata": {},
   "outputs": [],
   "source": []
  }
 ],
 "metadata": {
  "kernelspec": {
   "display_name": "Python 3.6.10 ('py36')",
   "language": "python",
   "name": "python3"
  },
  "language_info": {
   "codemirror_mode": {
    "name": "ipython",
    "version": 3
   },
   "file_extension": ".py",
   "mimetype": "text/x-python",
   "name": "python",
   "nbconvert_exporter": "python",
   "pygments_lexer": "ipython3",
   "version": "3.6.10"
  },
  "orig_nbformat": 4,
  "vscode": {
   "interpreter": {
    "hash": "e59a91fa698e4668adac386abeaaa9e787f2efa0af0899911c24b101ccac97b7"
   }
  }
 },
 "nbformat": 4,
 "nbformat_minor": 2
}
