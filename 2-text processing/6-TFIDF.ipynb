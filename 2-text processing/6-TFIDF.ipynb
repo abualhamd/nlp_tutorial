{
 "cells": [
  {
   "cell_type": "code",
   "execution_count": 90,
   "metadata": {},
   "outputs": [],
   "source": [
    "import latexify\n",
    "import math\n",
    "import pandas as pd"
   ]
  },
  {
   "cell_type": "code",
   "execution_count": 81,
   "metadata": {},
   "outputs": [
    {
     "data": {
      "text/latex": [
       "$$ \\displaystyle \\mathrm{TFDIFeq}(tf, df, N)\\triangleq tf\\log{\\left({\\frac{N}{df}}\\right)} $$"
      ],
      "text/plain": [
       "<latexify.core.with_latex.<locals>._LatexifiedFunction at 0x1a1f3e95da0>"
      ]
     },
     "execution_count": 81,
     "metadata": {},
     "output_type": "execute_result"
    }
   ],
   "source": [
    "@latexify.with_latex\n",
    "def TFDIFeq(tf,df,N):\n",
    "    #tf is the term frequency\n",
    "    #df is the document frequency\n",
    "    #N is the number of documents\n",
    "    return tf * math.log(N/df)\n",
    "\n",
    "TFDIFeq\n",
    "print(TFDIFeq)"
   ]
  },
  {
   "cell_type": "code",
   "execution_count": 1,
   "metadata": {},
   "outputs": [],
   "source": [
    "documentA = 'the man went out for a walk'\n",
    "documentB = 'the children sat around the fire'"
   ]
  },
  {
   "cell_type": "code",
   "execution_count": 2,
   "metadata": {},
   "outputs": [],
   "source": [
    "bagOfWordsA = documentA.split()\n",
    "bagOfWordsB = documentB.split()"
   ]
  },
  {
   "cell_type": "code",
   "execution_count": 3,
   "metadata": {},
   "outputs": [
    {
     "data": {
      "text/plain": [
       "['the', 'man', 'went', 'out', 'for', 'a', 'walk']"
      ]
     },
     "execution_count": 3,
     "metadata": {},
     "output_type": "execute_result"
    }
   ],
   "source": [
    "bagOfWordsA"
   ]
  },
  {
   "cell_type": "code",
   "execution_count": 4,
   "metadata": {},
   "outputs": [
    {
     "data": {
      "text/plain": [
       "{'a',\n",
       " 'around',\n",
       " 'children',\n",
       " 'fire',\n",
       " 'for',\n",
       " 'man',\n",
       " 'out',\n",
       " 'sat',\n",
       " 'the',\n",
       " 'walk',\n",
       " 'went'}"
      ]
     },
     "execution_count": 4,
     "metadata": {},
     "output_type": "execute_result"
    }
   ],
   "source": [
    "uniqueWords = set(bagOfWordsA).union(set(bagOfWordsB))\n",
    "uniqueWords"
   ]
  },
  {
   "cell_type": "code",
   "execution_count": 5,
   "metadata": {},
   "outputs": [
    {
     "data": {
      "text/plain": [
       "{'sat': 0,\n",
       " 'a': 0,\n",
       " 'fire': 0,\n",
       " 'children': 0,\n",
       " 'around': 0,\n",
       " 'out': 0,\n",
       " 'the': 0,\n",
       " 'man': 0,\n",
       " 'walk': 0,\n",
       " 'for': 0,\n",
       " 'went': 0}"
      ]
     },
     "execution_count": 5,
     "metadata": {},
     "output_type": "execute_result"
    }
   ],
   "source": [
    "dictA = dict.fromkeys(uniqueWords, 0)\n",
    "dictA"
   ]
  },
  {
   "cell_type": "code",
   "execution_count": 6,
   "metadata": {},
   "outputs": [
    {
     "data": {
      "text/plain": [
       "{'sat': 0,\n",
       " 'a': 1,\n",
       " 'fire': 0,\n",
       " 'children': 0,\n",
       " 'around': 0,\n",
       " 'out': 1,\n",
       " 'the': 1,\n",
       " 'man': 1,\n",
       " 'walk': 1,\n",
       " 'for': 1,\n",
       " 'went': 1}"
      ]
     },
     "execution_count": 6,
     "metadata": {},
     "output_type": "execute_result"
    }
   ],
   "source": [
    "for word in bagOfWordsA:\n",
    "    dictA[word] += 1\n",
    "\n",
    "dictA"
   ]
  },
  {
   "cell_type": "code",
   "execution_count": 32,
   "metadata": {},
   "outputs": [],
   "source": [
    "total = sum(dictA.values())"
   ]
  },
  {
   "cell_type": "code",
   "execution_count": 35,
   "metadata": {},
   "outputs": [
    {
     "data": {
      "text/plain": [
       "{'sat': 0.0,\n",
       " 'a': 0.14285714285714285,\n",
       " 'fire': 0.0,\n",
       " 'children': 0.0,\n",
       " 'around': 0.0,\n",
       " 'out': 0.14285714285714285,\n",
       " 'the': 0.14285714285714285,\n",
       " 'man': 0.14285714285714285,\n",
       " 'walk': 0.14285714285714285,\n",
       " 'for': 0.14285714285714285,\n",
       " 'went': 0.14285714285714285}"
      ]
     },
     "execution_count": 35,
     "metadata": {},
     "output_type": "execute_result"
    }
   ],
   "source": [
    "tfA = {key:val/total for key, val in dictA.items()}\n",
    "tfA"
   ]
  },
  {
   "cell_type": "code",
   "execution_count": 85,
   "metadata": {},
   "outputs": [],
   "source": [
    "def createTFs(docs:list) -> list:\n",
    "    uniqueWords = set()\n",
    "    bagsOfWords = []\n",
    "    for doc in docs:\n",
    "        words = doc.split()\n",
    "        bagsOfWords.append(words)\n",
    "        uniqueWords = uniqueWords.union(set(words))\n",
    "\n",
    "    tflist = []\n",
    "    for bagOfWords in bagsOfWords:\n",
    "        dct = dict.fromkeys(uniqueWords, 0)\n",
    "\n",
    "        for word in bagOfWords:\n",
    "            dct[word] += 1\n",
    "\n",
    "        total = sum(dct.values())\n",
    "        tf = {key:val/total for key, val in dct.items()}\n",
    "        tflist.append(tf)\n",
    "\n",
    "    return tflist\n"
   ]
  },
  {
   "cell_type": "code",
   "execution_count": 48,
   "metadata": {},
   "outputs": [
    {
     "data": {
      "text/plain": [
       "[{'sat': 0.0,\n",
       "  'a': 0.14285714285714285,\n",
       "  'fire': 0.0,\n",
       "  'children': 0.0,\n",
       "  'around': 0.0,\n",
       "  'out': 0.14285714285714285,\n",
       "  'the': 0.14285714285714285,\n",
       "  'man': 0.14285714285714285,\n",
       "  'walk': 0.14285714285714285,\n",
       "  'for': 0.14285714285714285,\n",
       "  'went': 0.14285714285714285},\n",
       " {'sat': 0.16666666666666666,\n",
       "  'a': 0.0,\n",
       "  'fire': 0.16666666666666666,\n",
       "  'children': 0.16666666666666666,\n",
       "  'around': 0.16666666666666666,\n",
       "  'out': 0.0,\n",
       "  'the': 0.3333333333333333,\n",
       "  'man': 0.0,\n",
       "  'walk': 0.0,\n",
       "  'for': 0.0,\n",
       "  'went': 0.0}]"
      ]
     },
     "execution_count": 48,
     "metadata": {},
     "output_type": "execute_result"
    }
   ],
   "source": [
    "tfs = createTFs([documentA, documentB])\n",
    "tfs"
   ]
  },
  {
   "cell_type": "code",
   "execution_count": 86,
   "metadata": {},
   "outputs": [
    {
     "name": "stdout",
     "output_type": "stream",
     "text": [
      "{'sat': 0.6931471805599453, 'a': 0.6931471805599453, 'fire': 0.6931471805599453, 'children': 0.6931471805599453, 'around': 0.6931471805599453, 'out': 0.6931471805599453, 'the': 0.0, 'man': 0.6931471805599453, 'walk': 0.6931471805599453, 'for': 0.6931471805599453, 'went': 0.6931471805599453}\n"
     ]
    }
   ],
   "source": [
    "def createIDFs(tfs:list) -> dict:\n",
    "    N = len(tfs)\n",
    "    uniqueWords = dict.fromkeys(tfs[0].keys(), 0)\n",
    "    for word in uniqueWords.keys():\n",
    "        for tf in tfs:\n",
    "            if tf[word] > 0:\n",
    "                uniqueWords[word] += 1\n",
    "    idf = {key: math.log(N/val) for key, val in uniqueWords.items()}\n",
    "    return idf\n",
    "\n",
    "idf = createIDFs(tfs)\n",
    "print(idf)\n"
   ]
  },
  {
   "cell_type": "code",
   "execution_count": 87,
   "metadata": {},
   "outputs": [],
   "source": [
    "def ComputeTFIDF(docs:list):\n",
    "    tfs = createTFs(docs=docs)\n",
    "    idf = createIDFs(tfs=tfs)\n",
    "    TFIDFs = []\n",
    "    for tf in tfs:\n",
    "        tfidf = {key: val * idf[key] for key, val in tf.items()}\n",
    "        TFIDFs.append(tfidf)\n",
    "\n",
    "    return TFIDFs"
   ]
  },
  {
   "cell_type": "code",
   "execution_count": 88,
   "metadata": {},
   "outputs": [
    {
     "data": {
      "text/plain": [
       "[{'sat': 0.0,\n",
       "  'a': 0.09902102579427789,\n",
       "  'fire': 0.0,\n",
       "  'children': 0.0,\n",
       "  'around': 0.0,\n",
       "  'out': 0.09902102579427789,\n",
       "  'the': 0.0,\n",
       "  'man': 0.09902102579427789,\n",
       "  'walk': 0.09902102579427789,\n",
       "  'for': 0.09902102579427789,\n",
       "  'went': 0.09902102579427789},\n",
       " {'sat': 0.11552453009332421,\n",
       "  'a': 0.0,\n",
       "  'fire': 0.11552453009332421,\n",
       "  'children': 0.11552453009332421,\n",
       "  'around': 0.11552453009332421,\n",
       "  'out': 0.0,\n",
       "  'the': 0.0,\n",
       "  'man': 0.0,\n",
       "  'walk': 0.0,\n",
       "  'for': 0.0,\n",
       "  'went': 0.0}]"
      ]
     },
     "execution_count": 88,
     "metadata": {},
     "output_type": "execute_result"
    }
   ],
   "source": [
    "TFIDFs = ComputeTFIDF(docs=[documentA, documentB])\n",
    "TFIDFs"
   ]
  },
  {
   "cell_type": "code",
   "execution_count": 94,
   "metadata": {},
   "outputs": [
    {
     "data": {
      "text/html": [
       "<div>\n",
       "<style scoped>\n",
       "    .dataframe tbody tr th:only-of-type {\n",
       "        vertical-align: middle;\n",
       "    }\n",
       "\n",
       "    .dataframe tbody tr th {\n",
       "        vertical-align: top;\n",
       "    }\n",
       "\n",
       "    .dataframe thead th {\n",
       "        text-align: right;\n",
       "    }\n",
       "</style>\n",
       "<table border=\"1\" class=\"dataframe\">\n",
       "  <thead>\n",
       "    <tr style=\"text-align: right;\">\n",
       "      <th></th>\n",
       "      <th>sat</th>\n",
       "      <th>a</th>\n",
       "      <th>fire</th>\n",
       "      <th>children</th>\n",
       "      <th>around</th>\n",
       "      <th>out</th>\n",
       "      <th>the</th>\n",
       "      <th>man</th>\n",
       "      <th>walk</th>\n",
       "      <th>for</th>\n",
       "      <th>went</th>\n",
       "    </tr>\n",
       "  </thead>\n",
       "  <tbody>\n",
       "    <tr>\n",
       "      <th>0</th>\n",
       "      <td>0.000000</td>\n",
       "      <td>0.099021</td>\n",
       "      <td>0.000000</td>\n",
       "      <td>0.000000</td>\n",
       "      <td>0.000000</td>\n",
       "      <td>0.099021</td>\n",
       "      <td>0.0</td>\n",
       "      <td>0.099021</td>\n",
       "      <td>0.099021</td>\n",
       "      <td>0.099021</td>\n",
       "      <td>0.099021</td>\n",
       "    </tr>\n",
       "    <tr>\n",
       "      <th>1</th>\n",
       "      <td>0.115525</td>\n",
       "      <td>0.000000</td>\n",
       "      <td>0.115525</td>\n",
       "      <td>0.115525</td>\n",
       "      <td>0.115525</td>\n",
       "      <td>0.000000</td>\n",
       "      <td>0.0</td>\n",
       "      <td>0.000000</td>\n",
       "      <td>0.000000</td>\n",
       "      <td>0.000000</td>\n",
       "      <td>0.000000</td>\n",
       "    </tr>\n",
       "  </tbody>\n",
       "</table>\n",
       "</div>"
      ],
      "text/plain": [
       "        sat         a      fire  children    around       out  the       man  \\\n",
       "0  0.000000  0.099021  0.000000  0.000000  0.000000  0.099021  0.0  0.099021   \n",
       "1  0.115525  0.000000  0.115525  0.115525  0.115525  0.000000  0.0  0.000000   \n",
       "\n",
       "       walk       for      went  \n",
       "0  0.099021  0.099021  0.099021  \n",
       "1  0.000000  0.000000  0.000000  "
      ]
     },
     "execution_count": 94,
     "metadata": {},
     "output_type": "execute_result"
    }
   ],
   "source": [
    "df = pd.DataFrame(TFIDFs)\n",
    "df"
   ]
  },
  {
   "cell_type": "code",
   "execution_count": 95,
   "metadata": {},
   "outputs": [
    {
     "name": "stdout",
     "output_type": "stream",
     "text": [
      "  (0, 8)\t0.42615959880289433\n",
      "  (0, 3)\t0.42615959880289433\n",
      "  (0, 5)\t0.42615959880289433\n",
      "  (0, 9)\t0.42615959880289433\n",
      "  (0, 4)\t0.42615959880289433\n",
      "  (0, 7)\t0.3032160644503863\n",
      "  (1, 2)\t0.40740123733358447\n",
      "  (1, 0)\t0.40740123733358447\n",
      "  (1, 6)\t0.40740123733358447\n",
      "  (1, 1)\t0.40740123733358447\n",
      "  (1, 7)\t0.5797386715376657\n"
     ]
    }
   ],
   "source": [
    "from sklearn.feature_extraction.text import TfidfVectorizer\n",
    "vectorizer = TfidfVectorizer()\n",
    "vectors = vectorizer.fit_transform([documentA, documentB])\n",
    "print(vectors)"
   ]
  },
  {
   "cell_type": "code",
   "execution_count": 96,
   "metadata": {},
   "outputs": [
    {
     "data": {
      "text/plain": [
       "['around',\n",
       " 'children',\n",
       " 'fire',\n",
       " 'for',\n",
       " 'man',\n",
       " 'out',\n",
       " 'sat',\n",
       " 'the',\n",
       " 'walk',\n",
       " 'went']"
      ]
     },
     "execution_count": 96,
     "metadata": {},
     "output_type": "execute_result"
    }
   ],
   "source": [
    "feature_names = vectorizer.get_feature_names()\n",
    "feature_names"
   ]
  },
  {
   "cell_type": "code",
   "execution_count": 97,
   "metadata": {},
   "outputs": [
    {
     "data": {
      "text/plain": [
       "matrix([[0.        , 0.        , 0.        , 0.4261596 , 0.4261596 ,\n",
       "         0.4261596 , 0.        , 0.30321606, 0.4261596 , 0.4261596 ],\n",
       "        [0.40740124, 0.40740124, 0.40740124, 0.        , 0.        ,\n",
       "         0.        , 0.40740124, 0.57973867, 0.        , 0.        ]])"
      ]
     },
     "execution_count": 97,
     "metadata": {},
     "output_type": "execute_result"
    }
   ],
   "source": [
    "dense = vectors.todense()\n",
    "dense"
   ]
  },
  {
   "cell_type": "code",
   "execution_count": 100,
   "metadata": {},
   "outputs": [
    {
     "data": {
      "text/html": [
       "<div>\n",
       "<style scoped>\n",
       "    .dataframe tbody tr th:only-of-type {\n",
       "        vertical-align: middle;\n",
       "    }\n",
       "\n",
       "    .dataframe tbody tr th {\n",
       "        vertical-align: top;\n",
       "    }\n",
       "\n",
       "    .dataframe thead th {\n",
       "        text-align: right;\n",
       "    }\n",
       "</style>\n",
       "<table border=\"1\" class=\"dataframe\">\n",
       "  <thead>\n",
       "    <tr style=\"text-align: right;\">\n",
       "      <th></th>\n",
       "      <th>around</th>\n",
       "      <th>children</th>\n",
       "      <th>fire</th>\n",
       "      <th>for</th>\n",
       "      <th>man</th>\n",
       "      <th>out</th>\n",
       "      <th>sat</th>\n",
       "      <th>the</th>\n",
       "      <th>walk</th>\n",
       "      <th>went</th>\n",
       "    </tr>\n",
       "  </thead>\n",
       "  <tbody>\n",
       "    <tr>\n",
       "      <th>0</th>\n",
       "      <td>0.000000</td>\n",
       "      <td>0.000000</td>\n",
       "      <td>0.000000</td>\n",
       "      <td>0.42616</td>\n",
       "      <td>0.42616</td>\n",
       "      <td>0.42616</td>\n",
       "      <td>0.000000</td>\n",
       "      <td>0.303216</td>\n",
       "      <td>0.42616</td>\n",
       "      <td>0.42616</td>\n",
       "    </tr>\n",
       "    <tr>\n",
       "      <th>1</th>\n",
       "      <td>0.407401</td>\n",
       "      <td>0.407401</td>\n",
       "      <td>0.407401</td>\n",
       "      <td>0.00000</td>\n",
       "      <td>0.00000</td>\n",
       "      <td>0.00000</td>\n",
       "      <td>0.407401</td>\n",
       "      <td>0.579739</td>\n",
       "      <td>0.00000</td>\n",
       "      <td>0.00000</td>\n",
       "    </tr>\n",
       "  </tbody>\n",
       "</table>\n",
       "</div>"
      ],
      "text/plain": [
       "     around  children      fire      for      man      out       sat  \\\n",
       "0  0.000000  0.000000  0.000000  0.42616  0.42616  0.42616  0.000000   \n",
       "1  0.407401  0.407401  0.407401  0.00000  0.00000  0.00000  0.407401   \n",
       "\n",
       "        the     walk     went  \n",
       "0  0.303216  0.42616  0.42616  \n",
       "1  0.579739  0.00000  0.00000  "
      ]
     },
     "execution_count": 100,
     "metadata": {},
     "output_type": "execute_result"
    }
   ],
   "source": [
    "denselist = dense.tolist()\n",
    "df = pd.DataFrame(denselist, columns=feature_names)\n",
    "df.head()"
   ]
  },
  {
   "cell_type": "code",
   "execution_count": null,
   "metadata": {},
   "outputs": [],
   "source": []
  }
 ],
 "metadata": {
  "kernelspec": {
   "display_name": "Python 3.6.10 ('py36')",
   "language": "python",
   "name": "python3"
  },
  "language_info": {
   "codemirror_mode": {
    "name": "ipython",
    "version": 3
   },
   "file_extension": ".py",
   "mimetype": "text/x-python",
   "name": "python",
   "nbconvert_exporter": "python",
   "pygments_lexer": "ipython3",
   "version": "3.6.10"
  },
  "orig_nbformat": 4,
  "vscode": {
   "interpreter": {
    "hash": "e59a91fa698e4668adac386abeaaa9e787f2efa0af0899911c24b101ccac97b7"
   }
  }
 },
 "nbformat": 4,
 "nbformat_minor": 2
}
